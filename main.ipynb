{
  "cells": [
    {
      "cell_type": "code",
      "execution_count": null,
      "metadata": {},
      "outputs": [],
      "source": [
        "%cd cp-vton"
      ]
    },
    {
      "cell_type": "code",
      "execution_count": null,
      "metadata": {},
      "outputs": [],
      "source": [
        "%pip install gdown"
      ]
    },
    {
      "cell_type": "code",
      "execution_count": null,
      "metadata": {
        "id": "gf3kfncssv5i"
      },
      "outputs": [],
      "source": [
        "%python get_data.py # download dataset and put in data/train and data/test folder"
      ]
    },
    {
      "cell_type": "code",
      "execution_count": null,
      "metadata": {
        "id": "gp-oTY_EtXQE"
      },
      "outputs": [],
      "source": [
        "# Run test for TOM model then check the result by using tensorboard\n",
        "!torchrun test.py --name TOM_test --stage TOM --checkpoint 'checkpoints/TOM/tom_final.pth' -b 8 -j 2"
      ]
    },
    {
      "cell_type": "code",
      "execution_count": null,
      "metadata": {},
      "outputs": [],
      "source": [
        "# Run test for GMM model then check the result by using tensorboard\n",
        "!torchrun test.py --name GMM_test --stage GMM --checkpoint 'checkpoints/GMM/gmm_final.pth' -b 8 -j 2"
      ]
    },
    {
      "cell_type": "code",
      "execution_count": null,
      "metadata": {
        "id": "rZn463IuyK3a"
      },
      "outputs": [],
      "source": [
        "%load_ext tensorboard\n",
        "%tensorboard --logdir tensorboard/TOM_test/"
      ]
    },
    {
      "cell_type": "code",
      "execution_count": null,
      "metadata": {},
      "outputs": [],
      "source": [
        "%reload_ext tensorboard\n",
        "%tensorboard --logdir tensorboard/GMM_test/"
      ]
    },
    {
      "cell_type": "code",
      "execution_count": null,
      "metadata": {
        "id": "Rp0TW9NhqJ9T"
      },
      "outputs": [],
      "source": [
        "# can continue to train the TOM model to check if it perform better on test or not - it might take long time\n",
        "# the trained checkpoint will be stored in \"checkpoints/TOM_train\", use that to run the test again (change --checkpoint when running test)\n",
        "!torchrun train.py --name TOM_train --stage TOM --checkpoint 'checkpoints/TOM/tom_final.pth' -j 2"
      ]
    },
    {
      "cell_type": "code",
      "execution_count": null,
      "metadata": {},
      "outputs": [],
      "source": [
        "# can continue to train the GMM model to check if it perform better on test or not - it might take long time\n",
        "# the trained checkpoint will be stored in \"checkpoints/GMM_train\", use that to run the test again (change --checkpoint when running test)\n",
        "!torchrun train.py --name GMM_train --stage GMM --checkpoint 'checkpoints/GMM/gmm_final.pth' -j 2"
      ]
    },
    {
      "cell_type": "code",
      "execution_count": null,
      "metadata": {
        "id": "wcB5XYO2gHfZ"
      },
      "outputs": [],
      "source": [
        "%reload_ext tensorboard\n",
        "%tensorboard --logdir tensorboard/TOM_train/"
      ]
    },
    {
      "cell_type": "code",
      "execution_count": null,
      "metadata": {},
      "outputs": [],
      "source": [
        "%reload_ext tensorboard\n",
        "%tensorboard --logdir tensorboard/GMM_train/"
      ]
    },
    {
      "cell_type": "code",
      "execution_count": null,
      "metadata": {},
      "outputs": [],
      "source": [
        "# Run the cp-vton end-to-end on the test data\n",
        "%python inference.py -j 2 --datamode test"
      ]
    }
  ],
  "metadata": {
    "accelerator": "GPU",
    "colab": {
      "gpuType": "L4",
      "machine_shape": "hm",
      "provenance": []
    },
    "kernelspec": {
      "display_name": "Python 3",
      "name": "python3"
    },
    "language_info": {
      "name": "python"
    }
  },
  "nbformat": 4,
  "nbformat_minor": 0
}
